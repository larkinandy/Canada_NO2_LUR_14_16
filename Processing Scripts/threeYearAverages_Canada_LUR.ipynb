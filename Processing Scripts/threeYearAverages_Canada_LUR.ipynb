{
 "cells": [
  {
   "cell_type": "markdown",
   "metadata": {},
   "source": [
    "# Script for deriving Canada LUR three year mean variables from one year mean variables #\n",
    "\n",
    "** Author: Andrew Larkin ** Developed for Perry Hystad, Oregon State University <br>\n",
    "** Date created: ** September 17, 2018\n",
    "\n",
    "### Summary ###\n",
    "\n",
    "The desired Canada LUR NO2 model will estimate mean near surface NO2 concentrations for the three year period 2014-2016.  This script takes one year estimates of buffer variables and creates three year averages.  Scripts were developed because there are many buffer variables for each buffer-based exposure."
   ]
  },
  {
   "cell_type": "markdown",
   "metadata": {},
   "source": [
    "### Setup ###\n",
    "\n",
    "Load libraries, define filepaths and constants"
   ]
  },
  {
   "cell_type": "code",
   "execution_count": 9,
   "metadata": {
    "collapsed": true
   },
   "outputs": [],
   "source": [
    "import pandas as ps\n",
    "import os\n",
    "import math\n",
    "workFolder = \"C:/users/larkinan/desktop/CanadaLUR/\"\n",
    "inputEnvCSV = workFolder + \"Canada_LUR_Vars_Sep17_18.csv\"\n",
    "outputEnvCSV = workFolder + \"Canada_LUR_Varsv2_Sep17_18.csv\"\n",
    "startYear = 2013\n",
    "endYear = 2017\n",
    "varNames = [\"N3\",\"N4\",\"N5\",\"N6\",\"N7\"]\n",
    "bufferDists = [50,100,250,500,750,1000,2000,3000,4000,5000,10000,15000,20000]"
   ]
  },
  {
   "cell_type": "markdown",
   "metadata": {},
   "source": [
    "### Helper functions ###"
   ]
  },
  {
   "cell_type": "code",
   "execution_count": 2,
   "metadata": {
    "collapsed": true
   },
   "outputs": [],
   "source": [
    "# load predictor variables from csv file \n",
    "def loadEnvInputs(inputCSV):\n",
    "    rawData = ps.read_csv(inputCSV)\n",
    "    return rawData"
   ]
  },
  {
   "cell_type": "code",
   "execution_count": 25,
   "metadata": {
    "collapsed": true
   },
   "outputs": [],
   "source": [
    "# calculate three year average for one variable\n",
    "def calcOneAverage(inData,varNames,newVarname):\n",
    "    inData[newVarname] = 0\n",
    "    for var in varNames:\n",
    "        inData[newVarname] += inData[var]\n",
    "    inData[newVarname] /= (len(varNames)*1.0)"
   ]
  },
  {
   "cell_type": "code",
   "execution_count": 40,
   "metadata": {
    "collapsed": true
   },
   "outputs": [],
   "source": [
    "# calculate three year averages for all predictor variables\n",
    "def calcEnvThreeYearAvgs(inData):\n",
    "    for dist in bufferDists:\n",
    "        startVarIndex = 0\n",
    "        while(len(varNames) - startVarIndex > 2):\n",
    "            varsToProcess = []\n",
    "            for varToAddIndex in range(0,3):\n",
    "                varsToProcess.append(varNames[startVarIndex + varToAddIndex] + str(dist) + 'm')\n",
    "            calcOneAverage(inData,varsToProcess,'NDVI_' + str(13+startVarIndex) + '_' + \n",
    "                           str(13+startVarIndex+2)+ '_' + str(dist) + 'm') \n",
    "            startVarIndex +=1"
   ]
  },
  {
   "cell_type": "code",
   "execution_count": null,
   "metadata": {
    "collapsed": true
   },
   "outputs": [],
   "source": [
    "# load data from air monitor csv files and merge\n",
    "def loadAirMonitorCSVFiles(dataFolder):\n",
    "    candidateFiles = os.listdir(annualNO2Folder)\n",
    "    filesToProcess = []\n",
    "    for candidateFile in candidateFiles:\n",
    "        if(candidateFile[len(candidateFile)-4:]) == '.csv':\n",
    "            filesToProcess.append(annualNO2Folder + candidateFile)\n",
    "\n",
    "    if(len(filesToProcess) >0):\n",
    "        mergedAvgs = ps.read_csv(filesToProcess[0])\n",
    "        currFileIndex = 1\n",
    "        while(currFileIndex < len(filesToProcess)):\n",
    "            tempFile = ps.read_csv(filesToProcess[currFileIndex])\n",
    "            mergedAvgs = ps.merge(mergedAvgs,tempFile,on='NAPS ID',how = 'outer')\n",
    "            currFileIndex+=1"
   ]
  },
  {
   "cell_type": "code",
   "execution_count": null,
   "metadata": {
    "collapsed": true
   },
   "outputs": [],
   "source": [
    "# calculate three year averages for air monitor records\n",
    "def calcThreeYearNO2Avg(inData):\n",
    "    mergedAvgs['numObs'] = (3 - 1*(mergedAvgs['Mean_2016'].isnull()) - 1*(mergedAvgs['Mean_2015'].isnull()) - 1*(mergedAvgs['Mean_2015'].isnull()))\n",
    "    mergedAvgs['meanNO2_2014_2016'] = (mergedAvgs.fillna(0)['Mean_2014'] + mergedAvgs.fillna(0)['Mean_2015']\n",
    "                                       + mergedAvgs.fillna(0)['Mean_2016']) / (mergedAvgs['numObs']*1.0)\n",
    "    return(mergedAvgs)"
   ]
  },
  {
   "cell_type": "code",
   "execution_count": null,
   "metadata": {
    "collapsed": true
   },
   "outputs": [],
   "source": [
    "# load and preprocess air monitor records\n",
    "def processNO2MonitorData(annualNO2Folder):\n",
    "    rawData = loadCSVFiles(annualNO2Folder)\n",
    "    threeYearAvg = calcThreeYearNO2Avg(rawData)\n",
    "    screenedData = threeYearAvg[threeYearAvg['numObs'] >0]\n",
    "    return(screenedData)"
   ]
  },
  {
   "cell_type": "code",
   "execution_count": null,
   "metadata": {
    "collapsed": true
   },
   "outputs": [],
   "source": [
    "# load and preprocess predictor variables\n",
    "def processEnvExposureData(inputCSV,outputCSV):\n",
    "    if os.path.exists(tempFile==False):\n",
    "        inputData = loadEnvInputs(inputCSV)\n",
    "        calcEnvThreeYearAvgs(inputData)\n",
    "        inputData.to_csv(outputCSV)\n",
    "    envExposures = ps.read_csv(outputCSV)\n",
    "    return(envExposures)"
   ]
  },
  {
   "cell_type": "markdown",
   "metadata": {},
   "source": [
    "### Main function ###"
   ]
  },
  {
   "cell_type": "code",
   "execution_count": 43,
   "metadata": {
    "collapsed": true
   },
   "outputs": [],
   "source": [
    "def main():\n",
    "    airMonitorData = processNO2MonitorData(annualNO2Folder)\n",
    "    envExposures = processEnvExposureData(inputEnvCSV,outputEnvCSV)\n",
    "    mergedDataset = ps.merge(airMonitorData,envExposures,on='NAPS ID')\n",
    "    mergedDataset.to_csv(resultsFile)"
   ]
  },
  {
   "cell_type": "markdown",
   "metadata": {},
   "source": [
    "### Call main function ###"
   ]
  },
  {
   "cell_type": "code",
   "execution_count": 44,
   "metadata": {
    "collapsed": true
   },
   "outputs": [],
   "source": [
    "main()"
   ]
  }
 ],
 "metadata": {
  "kernelspec": {
   "display_name": "Python 3",
   "language": "python",
   "name": "python3"
  },
  "language_info": {
   "codemirror_mode": {
    "name": "ipython",
    "version": 3
   },
   "file_extension": ".py",
   "mimetype": "text/x-python",
   "name": "python",
   "nbconvert_exporter": "python",
   "pygments_lexer": "ipython3",
   "version": "3.6.3"
  }
 },
 "nbformat": 4,
 "nbformat_minor": 2
}
