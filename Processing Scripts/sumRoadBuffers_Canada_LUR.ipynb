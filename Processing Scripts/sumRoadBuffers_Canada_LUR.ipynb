{
 "cells": [
  {
   "cell_type": "markdown",
   "metadata": {},
   "source": [
    "# Script for summing road lengths in multiple buffers #\n",
    "\n",
    "** Author: Andrew Larkin ** Developed for Perry Hystad, Oregon State University <br>\n",
    "** Date created: ** September 20, 2018\n",
    "\n",
    "### Summary ###\n",
    "\n",
    "This script takes multiple road exposure measures at multiple buffer sizes, and calculates the sum of road measures for each buffer size"
   ]
  },
  {
   "cell_type": "markdown",
   "metadata": {},
   "source": [
    "### Setup ###\n",
    "\n",
    "Load libraries, define filepaths and constants"
   ]
  },
  {
   "cell_type": "code",
   "execution_count": 13,
   "metadata": {
    "collapsed": true
   },
   "outputs": [],
   "source": [
    "import pandas as ps\n",
    "import os\n",
    "import math\n",
    "workFolder = \"C:/Users/larkinan/Documents/Canada_NO2_LUR_14_16/Datasets/\"\n",
    "inputEnvCSV = workFolder + \"Canada_LUR_preprocessed_Sep17_18.csv\"\n",
    "outputEnvCSV = workFolder + \"Canada_LUR_preprocessed_Sep17_18_v2.csv\"\n",
    "varsToSum = [\"bR\",\"cR\",\"dR\",\"eR\"]\n",
    "bufferDists = [50,100,250,500,750,1000,2000,3000,4000,5000,10000,15000,20000]\n",
    "newVarName = \"alRds\""
   ]
  },
  {
   "cell_type": "markdown",
   "metadata": {},
   "source": [
    "### Helper functions ###"
   ]
  },
  {
   "cell_type": "code",
   "execution_count": 8,
   "metadata": {
    "collapsed": true
   },
   "outputs": [],
   "source": [
    "# sum averages for a single buffer size\n",
    "def sumOneBufferDist(inData,varNames,bufferDist,newVarName):\n",
    "    newVarName = newVarName +str(bufferDist) + \"m\"\n",
    "    inData[newVarName] = 0\n",
    "    for name in varNames:\n",
    "        tempVar = name + str(bufferDist) + \"m\"\n",
    "        if(tempVar in inData):\n",
    "            inData[newVarName] += inData[tempVar]"
   ]
  },
  {
   "cell_type": "code",
   "execution_count": 5,
   "metadata": {
    "collapsed": true
   },
   "outputs": [],
   "source": [
    "def sumAllBufferDists(inData,varNames,bufferDists,newVarName):\n",
    "    for bufferDist in bufferDists:\n",
    "        sumOneBufferDist(inData,varNames,bufferDist,newVarName)"
   ]
  },
  {
   "cell_type": "markdown",
   "metadata": {},
   "source": [
    "### Main function ###"
   ]
  },
  {
   "cell_type": "code",
   "execution_count": 11,
   "metadata": {
    "collapsed": true
   },
   "outputs": [],
   "source": [
    "def main():\n",
    "    dataset = ps.read_csv(inputEnvCSV)\n",
    "    sumAllBufferDists(dataset,varsToSum,bufferDists,newVarName)\n",
    "    dataset.to_csv(outputEnvCSV)"
   ]
  },
  {
   "cell_type": "markdown",
   "metadata": {},
   "source": [
    "### Call main function ###"
   ]
  },
  {
   "cell_type": "code",
   "execution_count": 15,
   "metadata": {},
   "outputs": [],
   "source": [
    "main()"
   ]
  }
 ],
 "metadata": {
  "kernelspec": {
   "display_name": "Python 3",
   "language": "python",
   "name": "python3"
  },
  "language_info": {
   "codemirror_mode": {
    "name": "ipython",
    "version": 3
   },
   "file_extension": ".py",
   "mimetype": "text/x-python",
   "name": "python",
   "nbconvert_exporter": "python",
   "pygments_lexer": "ipython3",
   "version": "3.6.3"
  }
 },
 "nbformat": 4,
 "nbformat_minor": 2
}
